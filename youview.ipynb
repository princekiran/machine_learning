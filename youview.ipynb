{
  "nbformat": 4,
  "nbformat_minor": 0,
  "metadata": {
    "colab": {
      "name": "Hello, Colaboratory",
      "version": "0.3.2",
      "provenance": [],
      "collapsed_sections": [],
      "include_colab_link": true
    },
    "kernelspec": {
      "display_name": "Python 3",
      "name": "python3"
    }
  },
  "cells": [
    {
      "cell_type": "markdown",
      "metadata": {
        "id": "view-in-github",
        "colab_type": "text"
      },
      "source": [
        "<a href=\"https://colab.research.google.com/github/princekiran/machine_learning/blob/master/youview.ipynb\" target=\"_parent\"><img src=\"https://colab.research.google.com/assets/colab-badge.svg\" alt=\"Open In Colab\"/></a>"
      ]
    },
    {
      "cell_type": "code",
      "metadata": {
        "id": "nrit_PxDOdZB",
        "colab_type": "code",
        "outputId": "6dcb569e-f1ab-42c9-c41a-95a65c4c16b9",
        "colab": {
          "base_uri": "https://localhost:8080/",
          "height": 205
        }
      },
      "source": [
        "!pip install youtube-dl\n",
        "!pip install Pygame"
      ],
      "execution_count": 1,
      "outputs": [
        {
          "output_type": "stream",
          "text": [
            "Collecting youtube-dl\n",
            "\u001b[?25l  Downloading https://files.pythonhosted.org/packages/f6/05/908331f41e7ed52a3510c8927177056ffc7d26c3692ab87e3fad78081a05/youtube_dl-2019.6.21-py2.py3-none-any.whl (1.8MB)\n",
            "\u001b[K     |████████████████████████████████| 1.8MB 4.8MB/s \n",
            "\u001b[?25hInstalling collected packages: youtube-dl\n",
            "Successfully installed youtube-dl-2019.6.21\n",
            "Collecting Pygame\n",
            "\u001b[?25l  Downloading https://files.pythonhosted.org/packages/8e/24/ede6428359f913ed9cd1643dd5533aefeb5a2699cc95bea089de50ead586/pygame-1.9.6-cp36-cp36m-manylinux1_x86_64.whl (11.4MB)\n",
            "\u001b[K     |████████████████████████████████| 11.4MB 4.6MB/s \n",
            "\u001b[?25hInstalling collected packages: Pygame\n",
            "Successfully installed Pygame-1.9.6\n"
          ],
          "name": "stdout"
        }
      ]
    },
    {
      "cell_type": "code",
      "metadata": {
        "id": "Fl589jYvNfUZ",
        "colab_type": "code",
        "outputId": "ed439770-839c-4c4d-cdcb-fa8c11f72bfd",
        "colab": {
          "base_uri": "https://localhost:8080/",
          "height": 84
        }
      },
      "source": [
        "from __future__ import unicode_literals\n",
        "import youtube_dl\n",
        "\n",
        "ydl_opts = {\n",
        "                    'format': 'mp4',\n",
        "                    }\n",
        "with youtube_dl.YoutubeDL(ydl_opts) as ydl:\n",
        "    ydl.download(['https://www.youtube.com/watch?v=zAI1JwcuQME'])"
      ],
      "execution_count": 46,
      "outputs": [
        {
          "output_type": "stream",
          "text": [
            "[youtube] zAI1JwcuQME: Downloading webpage\n",
            "[youtube] zAI1JwcuQME: Downloading video info webpage\n",
            "[download] Destination: Seethakaalam Full Video Song - S_o Satyamurthy Video Songs - Allu Arjun, Samantha, Nithya Menon-zAI1JwcuQME.mp4\n",
            "[download] 100% of 22.67MiB in 00:00\n"
          ],
          "name": "stdout"
        }
      ]
    },
    {
      "cell_type": "code",
      "metadata": {
        "id": "ndJIxn5Q-116",
        "colab_type": "code",
        "outputId": "13486215-0334-4686-a399-107e6e2e6719",
        "colab": {
          "base_uri": "https://localhost:8080/",
          "height": 34
        }
      },
      "source": [
        "!pip install Pygame"
      ],
      "execution_count": 0,
      "outputs": [
        {
          "output_type": "stream",
          "text": [
            "Requirement already satisfied: Pygame in /usr/local/lib/python3.6/dist-packages (1.9.6)\n"
          ],
          "name": "stdout"
        }
      ]
    },
    {
      "cell_type": "code",
      "metadata": {
        "id": "_fz8au50i9zZ",
        "colab_type": "code",
        "colab": {}
      },
      "source": [
        "from moviepy.editor import *\n",
        "\n",
        "clip = VideoFileClip(\"nee dookudu full video song HD-f2aD3OVxuBk.mp4\")\n",
        "clip.duration = 600\n",
        "clip.ipython_display()"
      ],
      "execution_count": 0,
      "outputs": []
    },
    {
      "cell_type": "code",
      "metadata": {
        "id": "rBd6d32zKoHw",
        "colab_type": "code",
        "colab": {}
      },
      "source": [
        "import io\n",
        "import base64\n",
        "from IPython.display import HTML\n",
        "\n",
        "video = open('Seethakaalam Full Video Song - S_o Satyamurthy Video Songs - Allu Arjun, Samantha, Nithya Menon-zAI1JwcuQME.mp4', 'r+b').read()\n",
        "encoded = base64.b64encode(video)\n",
        "HTML(data='''<video alt=\"test\" controls>\n",
        "                <source src=\"data:video/mp4;base64,{0}\" type=\"video/mp4\" />\n",
        "             </video>'''.format(encoded.decode('ascii')))"
      ],
      "execution_count": 0,
      "outputs": []
    },
    {
      "cell_type": "code",
      "metadata": {
        "id": "Mi6ctPfiLdkg",
        "colab_type": "code",
        "colab": {}
      },
      "source": [
        "import IPython\n",
        "\n",
        "#IPython.display.HTML('<img src=\"https://github.com/blablabla/elmo_1.jpg?raw=1\">') \n",
        "IPython.display.HTML('<video controls><source src=\"nee dookudu full video song HD-f2aD3OVxuBk.mp4\" type=\"video/mp4\" autoplay></video>')"
      ],
      "execution_count": 0,
      "outputs": []
    }
  ]
}
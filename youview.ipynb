{
  "nbformat": 4,
  "nbformat_minor": 0,
  "metadata": {
    "colab": {
      "name": "Hello, Colaboratory",
      "version": "0.3.2",
      "provenance": [],
      "collapsed_sections": [],
      "include_colab_link": true
    },
    "kernelspec": {
      "display_name": "Python 3",
      "name": "python3"
    }
  },
  "cells": [
    {
      "cell_type": "markdown",
      "metadata": {
        "id": "view-in-github",
        "colab_type": "text"
      },
      "source": [
        "<a href=\"https://colab.research.google.com/github/princekiran/machine_learning/blob/master/youview.ipynb\" target=\"_parent\"><img src=\"https://colab.research.google.com/assets/colab-badge.svg\" alt=\"Open In Colab\"/></a>"
      ]
    },
    {
      "cell_type": "code",
      "metadata": {
        "id": "Fl589jYvNfUZ",
        "colab_type": "code",
        "colab": {}
      },
      "source": [
        "!pip install youtube-dl\n",
        "\n",
        "from __future__ import unicode_literals\n",
        "import youtube_dl\n",
        "import io\n",
        "import base64\n",
        "from IPython.display import HTML\n",
        "import os\n",
        "\n",
        "\n",
        "ydl_opts = {\n",
        "                    'outtmpl': 'mymovie.mp4',\n",
        "                    'format': 'mp4',\n",
        "                    }\n",
        "\n",
        "def check_and_remove():\n",
        "  ext_files = os.listdir()\n",
        "  if 'mymovie.mp4' in ext_files:\n",
        "    os.remove('mymovie.mp4')\n"
      ],
      "execution_count": 0,
      "outputs": []
    },
    {
      "cell_type": "code",
      "metadata": {
        "id": "4gFHFmFwgby3",
        "colab_type": "code",
        "colab": {}
      },
      "source": [
        "check_and_remove()\n",
        "youview_url = input(\"Please Enter youview URL: \")\n",
        "with youtube_dl.YoutubeDL(ydl_opts) as ydl:\n",
        "    ydl.download(['https://www.youtube.com/watch?v=zAI1JwcuQME'])\n",
        "    \n",
        "video = open('mymovie.mp4', 'r+b').read()\n",
        "encoded = base64.b64encode(video)\n",
        "HTML(data='''<video alt=\"test\" controls>\n",
        "                <source src=\"data:video/mp4;base64,{0}\" type=\"video/mp4\" />\n",
        "             </video>'''.format(encoded.decode('ascii')))"
      ],
      "execution_count": 0,
      "outputs": []
    }
  ]
}
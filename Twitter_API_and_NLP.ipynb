{
  "nbformat": 4,
  "nbformat_minor": 0,
  "metadata": {
    "colab": {
      "name": "Twitter API and NLP.ipynb",
      "version": "0.3.2",
      "provenance": [],
      "include_colab_link": true
    },
    "kernelspec": {
      "name": "python3",
      "display_name": "Python 3"
    }
  },
  "cells": [
    {
      "cell_type": "markdown",
      "metadata": {
        "id": "view-in-github",
        "colab_type": "text"
      },
      "source": [
        "<a href=\"https://colab.research.google.com/github/princekiran/machine_learning/blob/master/Twitter_API_and_NLP.ipynb\" target=\"_parent\"><img src=\"https://colab.research.google.com/assets/colab-badge.svg\" alt=\"Open In Colab\"/></a>"
      ]
    },
    {
      "metadata": {
        "id": "HII2cVVcXHgJ",
        "colab_type": "code",
        "colab": {}
      },
      "cell_type": "code",
      "source": [
        "# High and lowest probability tweets Twitter API and NLP\n",
        "\n",
        "#TweetMiner function from Mike Roman\n",
        "\n",
        "class TweetMiner(object):\n",
        "\n",
        "    \n",
        "    def __init__(self, api, result_limit = 20):\n",
        "        \n",
        "        self.api = api        \n",
        "        self.result_limit = result_limit\n",
        "        \n",
        "\n",
        "    def mine_user_tweets(self, user=\"HillaryClinton\", mine_retweets=False, max_pages=20):\n",
        "\n",
        "        data           =  []\n",
        "        last_tweet_id  =  False\n",
        "        page           =  1\n",
        "        \n",
        "        while page <= max_pages:\n",
        "            \n",
        "            if last_tweet_id:\n",
        "                statuses   =   self.api.GetUserTimeline(screen_name=user, count=self.result_limit, max_id=last_tweet_id - 1, include_rts=mine_retweets)\n",
        "                statuses = [ _.AsDict() for _ in statuses]\n",
        "            else:\n",
        "                statuses   =   self.api.GetUserTimeline(screen_name=user, count=self.result_limit, include_rts=mine_retweets)\n",
        "                statuses = [_.AsDict() for _ in statuses]\n",
        "                \n",
        "            for item in statuses:\n",
        "                # Using try except here.\n",
        "                # When retweets = 0 we get an error (GetUserTimeline fails to create a key, 'retweet_count')\n",
        "                try:\n",
        "                    mined = {\n",
        "                        'tweet_id':        item['id'],\n",
        "                        'handle':          item['user']['screen_name'],\n",
        "                        'retweet_count':   item['retweet_count'],\n",
        "                        'text':            item['full_text'],\n",
        "                        'mined_at':        datetime.datetime.now(),\n",
        "                        'created_at':      item['created_at'],\n",
        "                    }\n",
        "                \n",
        "                except:\n",
        "                        mined = {\n",
        "                        'tweet_id':        item['id'],\n",
        "                        'handle':          item['user']['screen_name'],\n",
        "                        'retweet_count':   0,\n",
        "                        'text':            item['full_text'],\n",
        "                        'mined_at':        datetime.datetime.now(),\n",
        "                        'created_at':      item['created_at'],\n",
        "                    }\n",
        "                \n",
        "                last_tweet_id = item['id']\n",
        "                data.append(mined)\n",
        "                \n",
        "            page += 1\n",
        "            \n",
        "        return data"
      ],
      "execution_count": 0,
      "outputs": []
    }
  ]
}